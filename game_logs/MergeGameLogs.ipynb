{
 "cells": [
  {
   "cell_type": "markdown",
   "metadata": {},
   "source": [
    "# Merge Game Logs\n",
    "This script merges all game logs in the folder `game_logs`. It assumes that all games were simulated with the same parameters. It doesn't sort the games and assumes they're independent."
   ]
  },
  {
   "cell_type": "code",
   "execution_count": 1,
   "metadata": {},
   "outputs": [],
   "source": [
    "import pandas as pd\n",
    "import os\n",
    "\n",
    "# files = [f for f in os.listdir(\"../game_logs/\") if f.startswith(\"game_\")]\n",
    "\n",
    "files = [\"game_{}.csv\".format(i) for i in range(50000)]\n",
    "\n",
    "games = []\n",
    "for i, file in enumerate(files):\n",
    "    dat = pd.read_csv(os.path.join(\"randombot_4players/\", file), index_col=0)\n",
    "    dat[\"game_id\"] = i\n",
    "    games.append(dat)\n",
    "games = pd.concat(games, sort=True)\n",
    "\n",
    "first_columns = [\"game_id\", \"round_id\"]\n",
    "remaining_columns = [col for col in games.columns if col not in first_columns]\n",
    "games = games[first_columns + remaining_columns]\n",
    "games.to_csv(\"GameLogs.csv\", header=True, index=False)"
   ]
  },
  {
   "cell_type": "code",
   "execution_count": null,
   "metadata": {},
   "outputs": [],
   "source": []
  }
 ],
 "metadata": {
  "kernelspec": {
   "display_name": "Python 3",
   "language": "python",
   "name": "python3"
  },
  "language_info": {
   "codemirror_mode": {
    "name": "ipython",
    "version": 3
   },
   "file_extension": ".py",
   "mimetype": "text/x-python",
   "name": "python",
   "nbconvert_exporter": "python",
   "pygments_lexer": "ipython3",
   "version": "3.6.8"
  }
 },
 "nbformat": 4,
 "nbformat_minor": 2
}
